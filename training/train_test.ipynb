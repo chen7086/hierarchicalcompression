{
 "cells": [
  {
   "cell_type": "code",
   "execution_count": 1,
   "id": "449fee0c-0ba0-4f11-9371-229ca8c79acf",
   "metadata": {},
   "outputs": [],
   "source": [
    "from transformers.models.qwen3.modeling_qwen3 import (\n",
    "    Qwen3DecoderLayer,\n",
    "    Qwen3Attention,\n",
    "    Qwen3MLP,\n",
    "    Qwen3RMSNorm,\n",
    "    Qwen3RotaryEmbedding,\n",
    ")"
   ]
  },
  {
   "cell_type": "code",
   "execution_count": 2,
   "id": "93d8fd47-ed7b-4397-8774-988de1a97318",
   "metadata": {},
   "outputs": [
    {
     "name": "stdout",
     "output_type": "stream",
     "text": [
      "4.51.3\n"
     ]
    }
   ],
   "source": [
    "import transformers\n",
    "print(transformers.__version__)"
   ]
  },
  {
   "cell_type": "code",
   "execution_count": 5,
   "id": "b7424165-762d-4057-9d4e-dc4b50ec9abc",
   "metadata": {},
   "outputs": [],
   "source": [
    "import torch\n",
    "\n",
    "import torch.nn as nn\n",
    "\n",
    "\n",
    "\n",
    "from transformers import Qwen3Model, Qwen3ForCausalLM, Qwen3PreTrainedModel, Qwen3Config\n",
    "from transformers.models.qwen3.modeling_qwen3 import (\n",
    "    Qwen3DecoderLayer,\n",
    "    Qwen3Attention,\n",
    "    # Qwen3FlashAttention3,\n",
    "    # Qwen3SdpaAttention,\n",
    "    Qwen3MLP,\n",
    "    Qwen3RMSNorm,\n",
    "    Qwen3RotaryEmbedding,\n",
    ")\n",
    "\n",
    "from peft import PeftModel\n",
    "from peft import LoraConfig, get_peft_model\n",
    "from torch.nn import CrossEntropyLoss\n",
    "from transformers.modeling_outputs import BaseModelOutputWithPast, ModelOutput\n",
    "from dataclasses import dataclass\n",
    "\n",
    "from typing import Optional, Tuple, List, Union\n",
    "\n",
    "from transformers.cache_utils import Cache, StaticCache\n",
    "from transformers.modeling_outputs import CausalLMOutputWithPast\n",
    "\n",
    "from transformers.modeling_attn_mask_utils import AttentionMaskConverter\n",
    "from transformers.utils import logging\n",
    "\n",
    "from peft import PeftModel, LoraConfig"
   ]
  },
  {
   "cell_type": "code",
   "execution_count": null,
   "id": "8a071890-5855-4899-8197-c5fbcf380c40",
   "metadata": {},
   "outputs": [],
   "source": [
    "from transformers.models.Qwen3.modeling_Qwen3 import (\n",
    "    Qwen3DecoderLayer,\n",
    "    Qwen3Attention,\n",
    "    # Qwen3FlashAttention2,\n",
    "    # Qwen3SdpaAttention,\n",
    "    Qwen3MLP,\n",
    "    Qwen3RMSNorm,\n",
    "    Qwen3RotaryEmbedding,\n",
    ")"
   ]
  }
 ],
 "metadata": {
  "kernelspec": {
   "display_name": "Python 3 (ipykernel)",
   "language": "python",
   "name": "python3"
  },
  "language_info": {
   "codemirror_mode": {
    "name": "ipython",
    "version": 3
   },
   "file_extension": ".py",
   "mimetype": "text/x-python",
   "name": "python",
   "nbconvert_exporter": "python",
   "pygments_lexer": "ipython3",
   "version": "3.12.3"
  }
 },
 "nbformat": 4,
 "nbformat_minor": 5
}
